{
  "nbformat": 4,
  "nbformat_minor": 0,
  "metadata": {
    "colab": {
      "provenance": [],
      "authorship_tag": "ABX9TyNh8ESSwQOy+V5cftSPoDhQ",
      "include_colab_link": true
    },
    "kernelspec": {
      "name": "python3",
      "display_name": "Python 3"
    },
    "language_info": {
      "name": "python"
    }
  },
  "cells": [
    {
      "cell_type": "markdown",
      "metadata": {
        "id": "view-in-github",
        "colab_type": "text"
      },
      "source": [
        "<a href=\"https://colab.research.google.com/github/gokilanr/Hacker-earth-exhibit-art-/blob/main/fer1.ipynb\" target=\"_parent\"><img src=\"https://colab.research.google.com/assets/colab-badge.svg\" alt=\"Open In Colab\"/></a>"
      ]
    },
    {
      "cell_type": "code",
      "execution_count": null,
      "metadata": {
        "colab": {
          "base_uri": "https://localhost:8080/"
        },
        "id": "SJyiVMisxxPh",
        "outputId": "c3a88b3c-35b5-4b14-abe1-7c9fed3665d9"
      },
      "outputs": [
        {
          "output_type": "stream",
          "name": "stdout",
          "text": [
            "Requirement already satisfied: opencv-python in /usr/local/lib/python3.10/dist-packages (4.8.0.76)\n",
            "Requirement already satisfied: numpy>=1.21.2 in /usr/local/lib/python3.10/dist-packages (from opencv-python) (1.25.2)\n"
          ]
        }
      ],
      "source": [
        "! pip install opencv-python"
      ]
    },
    {
      "cell_type": "code",
      "source": [
        "!pip install dlib"
      ],
      "metadata": {
        "colab": {
          "base_uri": "https://localhost:8080/"
        },
        "id": "vbD1Jxj1x7jT",
        "outputId": "79a45c9a-1ff4-4ead-c005-50a17feb0ebb"
      },
      "execution_count": null,
      "outputs": [
        {
          "output_type": "stream",
          "name": "stdout",
          "text": [
            "Requirement already satisfied: dlib in /usr/local/lib/python3.10/dist-packages (19.24.4)\n"
          ]
        }
      ]
    },
    {
      "cell_type": "code",
      "source": [
        "!pip install face_recognition"
      ],
      "metadata": {
        "colab": {
          "base_uri": "https://localhost:8080/"
        },
        "id": "yp6RKo3SyCRW",
        "outputId": "5477ec0d-24be-412a-aaee-0259d164c834"
      },
      "execution_count": null,
      "outputs": [
        {
          "output_type": "stream",
          "name": "stdout",
          "text": [
            "Collecting face_recognition\n",
            "  Downloading face_recognition-1.3.0-py2.py3-none-any.whl (15 kB)\n",
            "Collecting face-recognition-models>=0.3.0 (from face_recognition)\n",
            "  Downloading face_recognition_models-0.3.0.tar.gz (100.1 MB)\n",
            "\u001b[2K     \u001b[90m━━━━━━━━━━━━━━━━━━━━━━━━━━━━━━━━━━━━━━━━\u001b[0m \u001b[32m100.1/100.1 MB\u001b[0m \u001b[31m8.7 MB/s\u001b[0m eta \u001b[36m0:00:00\u001b[0m\n",
            "\u001b[?25h  Preparing metadata (setup.py) ... \u001b[?25l\u001b[?25hdone\n",
            "Requirement already satisfied: Click>=6.0 in /usr/local/lib/python3.10/dist-packages (from face_recognition) (8.1.7)\n",
            "Requirement already satisfied: dlib>=19.7 in /usr/local/lib/python3.10/dist-packages (from face_recognition) (19.24.4)\n",
            "Requirement already satisfied: numpy in /usr/local/lib/python3.10/dist-packages (from face_recognition) (1.25.2)\n",
            "Requirement already satisfied: Pillow in /usr/local/lib/python3.10/dist-packages (from face_recognition) (9.4.0)\n",
            "Building wheels for collected packages: face-recognition-models\n",
            "  Building wheel for face-recognition-models (setup.py) ... \u001b[?25l\u001b[?25hdone\n",
            "  Created wheel for face-recognition-models: filename=face_recognition_models-0.3.0-py2.py3-none-any.whl size=100566170 sha256=7573da388cc0ad384d6476beaba65faea1b69608dfcd79729cbdb79d0f48177e\n",
            "  Stored in directory: /root/.cache/pip/wheels/7a/eb/cf/e9eced74122b679557f597bb7c8e4c739cfcac526db1fd523d\n",
            "Successfully built face-recognition-models\n",
            "Installing collected packages: face-recognition-models, face_recognition\n",
            "Successfully installed face-recognition-models-0.3.0 face_recognition-1.3.0\n"
          ]
        }
      ]
    },
    {
      "cell_type": "code",
      "source": [
        "!pip install tensorflow"
      ],
      "metadata": {
        "colab": {
          "base_uri": "https://localhost:8080/"
        },
        "id": "g44JHNjXyC4w",
        "outputId": "b80a0491-1951-4deb-b403-6eb09b132499"
      },
      "execution_count": null,
      "outputs": [
        {
          "output_type": "stream",
          "name": "stdout",
          "text": [
            "Requirement already satisfied: tensorflow in /usr/local/lib/python3.10/dist-packages (2.15.0)\n",
            "Requirement already satisfied: absl-py>=1.0.0 in /usr/local/lib/python3.10/dist-packages (from tensorflow) (1.4.0)\n",
            "Requirement already satisfied: astunparse>=1.6.0 in /usr/local/lib/python3.10/dist-packages (from tensorflow) (1.6.3)\n",
            "Requirement already satisfied: flatbuffers>=23.5.26 in /usr/local/lib/python3.10/dist-packages (from tensorflow) (24.3.25)\n",
            "Requirement already satisfied: gast!=0.5.0,!=0.5.1,!=0.5.2,>=0.2.1 in /usr/local/lib/python3.10/dist-packages (from tensorflow) (0.5.4)\n",
            "Requirement already satisfied: google-pasta>=0.1.1 in /usr/local/lib/python3.10/dist-packages (from tensorflow) (0.2.0)\n",
            "Requirement already satisfied: h5py>=2.9.0 in /usr/local/lib/python3.10/dist-packages (from tensorflow) (3.9.0)\n",
            "Requirement already satisfied: libclang>=13.0.0 in /usr/local/lib/python3.10/dist-packages (from tensorflow) (18.1.1)\n",
            "Requirement already satisfied: ml-dtypes~=0.2.0 in /usr/local/lib/python3.10/dist-packages (from tensorflow) (0.2.0)\n",
            "Requirement already satisfied: numpy<2.0.0,>=1.23.5 in /usr/local/lib/python3.10/dist-packages (from tensorflow) (1.25.2)\n",
            "Requirement already satisfied: opt-einsum>=2.3.2 in /usr/local/lib/python3.10/dist-packages (from tensorflow) (3.3.0)\n",
            "Requirement already satisfied: packaging in /usr/local/lib/python3.10/dist-packages (from tensorflow) (24.0)\n",
            "Requirement already satisfied: protobuf!=4.21.0,!=4.21.1,!=4.21.2,!=4.21.3,!=4.21.4,!=4.21.5,<5.0.0dev,>=3.20.3 in /usr/local/lib/python3.10/dist-packages (from tensorflow) (3.20.3)\n",
            "Requirement already satisfied: setuptools in /usr/local/lib/python3.10/dist-packages (from tensorflow) (67.7.2)\n",
            "Requirement already satisfied: six>=1.12.0 in /usr/local/lib/python3.10/dist-packages (from tensorflow) (1.16.0)\n",
            "Requirement already satisfied: termcolor>=1.1.0 in /usr/local/lib/python3.10/dist-packages (from tensorflow) (2.4.0)\n",
            "Requirement already satisfied: typing-extensions>=3.6.6 in /usr/local/lib/python3.10/dist-packages (from tensorflow) (4.11.0)\n",
            "Requirement already satisfied: wrapt<1.15,>=1.11.0 in /usr/local/lib/python3.10/dist-packages (from tensorflow) (1.14.1)\n",
            "Requirement already satisfied: tensorflow-io-gcs-filesystem>=0.23.1 in /usr/local/lib/python3.10/dist-packages (from tensorflow) (0.37.0)\n",
            "Requirement already satisfied: grpcio<2.0,>=1.24.3 in /usr/local/lib/python3.10/dist-packages (from tensorflow) (1.64.0)\n",
            "Requirement already satisfied: tensorboard<2.16,>=2.15 in /usr/local/lib/python3.10/dist-packages (from tensorflow) (2.15.2)\n",
            "Requirement already satisfied: tensorflow-estimator<2.16,>=2.15.0 in /usr/local/lib/python3.10/dist-packages (from tensorflow) (2.15.0)\n",
            "Requirement already satisfied: keras<2.16,>=2.15.0 in /usr/local/lib/python3.10/dist-packages (from tensorflow) (2.15.0)\n",
            "Requirement already satisfied: wheel<1.0,>=0.23.0 in /usr/local/lib/python3.10/dist-packages (from astunparse>=1.6.0->tensorflow) (0.43.0)\n",
            "Requirement already satisfied: google-auth<3,>=1.6.3 in /usr/local/lib/python3.10/dist-packages (from tensorboard<2.16,>=2.15->tensorflow) (2.27.0)\n",
            "Requirement already satisfied: google-auth-oauthlib<2,>=0.5 in /usr/local/lib/python3.10/dist-packages (from tensorboard<2.16,>=2.15->tensorflow) (1.2.0)\n",
            "Requirement already satisfied: markdown>=2.6.8 in /usr/local/lib/python3.10/dist-packages (from tensorboard<2.16,>=2.15->tensorflow) (3.6)\n",
            "Requirement already satisfied: requests<3,>=2.21.0 in /usr/local/lib/python3.10/dist-packages (from tensorboard<2.16,>=2.15->tensorflow) (2.31.0)\n",
            "Requirement already satisfied: tensorboard-data-server<0.8.0,>=0.7.0 in /usr/local/lib/python3.10/dist-packages (from tensorboard<2.16,>=2.15->tensorflow) (0.7.2)\n",
            "Requirement already satisfied: werkzeug>=1.0.1 in /usr/local/lib/python3.10/dist-packages (from tensorboard<2.16,>=2.15->tensorflow) (3.0.3)\n",
            "Requirement already satisfied: cachetools<6.0,>=2.0.0 in /usr/local/lib/python3.10/dist-packages (from google-auth<3,>=1.6.3->tensorboard<2.16,>=2.15->tensorflow) (5.3.3)\n",
            "Requirement already satisfied: pyasn1-modules>=0.2.1 in /usr/local/lib/python3.10/dist-packages (from google-auth<3,>=1.6.3->tensorboard<2.16,>=2.15->tensorflow) (0.4.0)\n",
            "Requirement already satisfied: rsa<5,>=3.1.4 in /usr/local/lib/python3.10/dist-packages (from google-auth<3,>=1.6.3->tensorboard<2.16,>=2.15->tensorflow) (4.9)\n",
            "Requirement already satisfied: requests-oauthlib>=0.7.0 in /usr/local/lib/python3.10/dist-packages (from google-auth-oauthlib<2,>=0.5->tensorboard<2.16,>=2.15->tensorflow) (1.3.1)\n",
            "Requirement already satisfied: charset-normalizer<4,>=2 in /usr/local/lib/python3.10/dist-packages (from requests<3,>=2.21.0->tensorboard<2.16,>=2.15->tensorflow) (3.3.2)\n",
            "Requirement already satisfied: idna<4,>=2.5 in /usr/local/lib/python3.10/dist-packages (from requests<3,>=2.21.0->tensorboard<2.16,>=2.15->tensorflow) (3.7)\n",
            "Requirement already satisfied: urllib3<3,>=1.21.1 in /usr/local/lib/python3.10/dist-packages (from requests<3,>=2.21.0->tensorboard<2.16,>=2.15->tensorflow) (2.0.7)\n",
            "Requirement already satisfied: certifi>=2017.4.17 in /usr/local/lib/python3.10/dist-packages (from requests<3,>=2.21.0->tensorboard<2.16,>=2.15->tensorflow) (2024.2.2)\n",
            "Requirement already satisfied: MarkupSafe>=2.1.1 in /usr/local/lib/python3.10/dist-packages (from werkzeug>=1.0.1->tensorboard<2.16,>=2.15->tensorflow) (2.1.5)\n",
            "Requirement already satisfied: pyasn1<0.7.0,>=0.4.6 in /usr/local/lib/python3.10/dist-packages (from pyasn1-modules>=0.2.1->google-auth<3,>=1.6.3->tensorboard<2.16,>=2.15->tensorflow) (0.6.0)\n",
            "Requirement already satisfied: oauthlib>=3.0.0 in /usr/local/lib/python3.10/dist-packages (from requests-oauthlib>=0.7.0->google-auth-oauthlib<2,>=0.5->tensorboard<2.16,>=2.15->tensorflow) (3.2.2)\n"
          ]
        }
      ]
    },
    {
      "cell_type": "code",
      "source": [
        "!pip install keras-preprocessing"
      ],
      "metadata": {
        "colab": {
          "base_uri": "https://localhost:8080/"
        },
        "id": "bQLwCGwYyaDD",
        "outputId": "3635c203-eed9-4b57-f7e8-d1272cc451a6"
      },
      "execution_count": null,
      "outputs": [
        {
          "output_type": "stream",
          "name": "stdout",
          "text": [
            "Collecting keras-preprocessing\n",
            "  Downloading Keras_Preprocessing-1.1.2-py2.py3-none-any.whl (42 kB)\n",
            "\u001b[2K     \u001b[90m━━━━━━━━━━━━━━━━━━━━━━━━━━━━━━━━━━━━━━━━\u001b[0m \u001b[32m42.6/42.6 kB\u001b[0m \u001b[31m710.3 kB/s\u001b[0m eta \u001b[36m0:00:00\u001b[0m\n",
            "\u001b[?25hRequirement already satisfied: numpy>=1.9.1 in /usr/local/lib/python3.10/dist-packages (from keras-preprocessing) (1.25.2)\n",
            "Requirement already satisfied: six>=1.9.0 in /usr/local/lib/python3.10/dist-packages (from keras-preprocessing) (1.16.0)\n",
            "Installing collected packages: keras-preprocessing\n",
            "Successfully installed keras-preprocessing-1.1.2\n"
          ]
        }
      ]
    },
    {
      "cell_type": "code",
      "source": [],
      "metadata": {
        "id": "BfaMSpicysNi"
      },
      "execution_count": null,
      "outputs": []
    },
    {
      "cell_type": "code",
      "source": [
        "from keras.utils import to_categorical\n",
        "from keras_preprocessing.image import load_img\n",
        "from keras.models import Sequential\n",
        "from keras.layers import Dense, Conv2D, Dropout, Flatten, MaxPooling2D\n",
        "import os\n",
        "import pandas as pd\n",
        "import numpy as np"
      ],
      "metadata": {
        "id": "lBIrZPqZycGW"
      },
      "execution_count": null,
      "outputs": []
    },
    {
      "cell_type": "code",
      "source": [
        "!git clone https://github.com/Decoding-Data-Science/fer-may-hackathon.git"
      ],
      "metadata": {
        "colab": {
          "base_uri": "https://localhost:8080/"
        },
        "id": "BfRAcBbqyLHK",
        "outputId": "32d4e470-47d9-44d2-d422-4f22110a5276"
      },
      "execution_count": null,
      "outputs": [
        {
          "output_type": "stream",
          "name": "stdout",
          "text": [
            "Cloning into 'fer-may-hackathon'...\n",
            "remote: Enumerating objects: 7139, done.\u001b[K\n",
            "remote: Counting objects: 100% (7139/7139), done.\u001b[K\n",
            "remote: Compressing objects: 100% (7125/7125), done.\u001b[K\n",
            "remote: Total 7139 (delta 9), reused 7121 (delta 8), pack-reused 0\u001b[K\n",
            "Receiving objects: 100% (7139/7139), 11.10 MiB | 20.93 MiB/s, done.\n",
            "Resolving deltas: 100% (9/9), done.\n"
          ]
        }
      ]
    },
    {
      "cell_type": "code",
      "source": [
        "TRAIN_DIR = 'fer-may-hackathon/images/train'\n",
        "TEST_DIR = 'fer-may-hackathon/images/validation'"
      ],
      "metadata": {
        "id": "0mSFwS39yqcW"
      },
      "execution_count": null,
      "outputs": []
    },
    {
      "cell_type": "code",
      "source": [
        "from tensorflow.keras.preprocessing.image import ImageDataGenerator\n",
        "\n",
        "train_datagen = ImageDataGenerator(\n",
        "    rescale=1./255,\n",
        "    rotation_range=30,\n",
        "    width_shift_range=0.2,\n",
        "    height_shift_range=0.2,\n",
        "    shear_range=0.2,\n",
        "    zoom_range=0.2,\n",
        "    horizontal_flip=True,\n",
        "    fill_mode='nearest'\n",
        ")\n",
        "\n",
        "test_datagen = ImageDataGenerator(rescale=1./255)\n",
        "\n",
        "train_generator = train_datagen.flow_from_directory(\n",
        "    TRAIN_DIR,\n",
        "    target_size=(48, 48),  # Assuming the input size needed by your model\n",
        "    batch_size=32,\n",
        "    color_mode='grayscale',  # If your model expects grayscale inputs\n",
        "    class_mode='categorical'\n",
        ")\n",
        "\n",
        "validation_generator = test_datagen.flow_from_directory(\n",
        "    TEST_DIR,\n",
        "    target_size=(48, 48),\n",
        "    batch_size=32,\n",
        "    color_mode='grayscale',\n",
        "    class_mode='categorical'\n",
        ")"
      ],
      "metadata": {
        "colab": {
          "base_uri": "https://localhost:8080/"
        },
        "id": "g3fikJmwyv0b",
        "outputId": "703d80a0-68d7-442c-e1b5-4a6f52fcabb8"
      },
      "execution_count": null,
      "outputs": [
        {
          "output_type": "stream",
          "name": "stdout",
          "text": [
            "Found 7178 images belonging to 7 classes.\n",
            "Found 3668 images belonging to 7 classes.\n"
          ]
        }
      ]
    },
    {
      "cell_type": "code",
      "source": [
        "%%time\n",
        "\n",
        "from tensorflow.keras.models import Sequential\n",
        "from tensorflow.keras.layers import Conv2D, MaxPooling2D, Flatten, Dense, Dropout\n",
        "\n",
        "model = Sequential([\n",
        "    Conv2D(32, (3, 3), activation='relu', input_shape=(48, 48, 1)),\n",
        "    MaxPooling2D(2, 2),\n",
        "    Conv2D(64, (3, 3), activation='relu'),\n",
        "    MaxPooling2D(2, 2),\n",
        "    Conv2D(128, (3, 3), activation='relu'),\n",
        "    MaxPooling2D(2, 2),\n",
        "    Flatten(),\n",
        "    Dense(512, activation='relu'),\n",
        "    Dropout(0.5),\n",
        "    Dense(7, activation='softmax')\n",
        "])\n",
        "\n",
        "model.compile(optimizer='adam', loss='categorical_crossentropy', metrics=['accuracy'])\n",
        "history = model.fit(train_generator, epochs=100, validation_data=validation_generator)"
      ],
      "metadata": {
        "colab": {
          "base_uri": "https://localhost:8080/"
        },
        "id": "FEWDRXV3ywlz",
        "outputId": "86c5122d-4f41-4a1d-cb96-6d1b03a42f00"
      },
      "execution_count": 25,
      "outputs": [
        {
          "output_type": "stream",
          "name": "stdout",
          "text": [
            "Epoch 1/100\n",
            "225/225 [==============================] - 34s 145ms/step - loss: 1.8281 - accuracy: 0.2400 - val_loss: 1.7737 - val_accuracy: 0.2688\n",
            "Epoch 2/100\n",
            "225/225 [==============================] - 34s 149ms/step - loss: 1.8014 - accuracy: 0.2476 - val_loss: 1.7805 - val_accuracy: 0.2666\n",
            "Epoch 3/100\n",
            "225/225 [==============================] - 33s 147ms/step - loss: 1.7935 - accuracy: 0.2438 - val_loss: 1.7525 - val_accuracy: 0.2674\n",
            "Epoch 4/100\n",
            "225/225 [==============================] - 31s 138ms/step - loss: 1.7903 - accuracy: 0.2520 - val_loss: 1.7452 - val_accuracy: 0.2947\n",
            "Epoch 5/100\n",
            "225/225 [==============================] - 31s 140ms/step - loss: 1.7779 - accuracy: 0.2623 - val_loss: 1.7015 - val_accuracy: 0.3143\n",
            "Epoch 6/100\n",
            "225/225 [==============================] - 33s 146ms/step - loss: 1.7681 - accuracy: 0.2639 - val_loss: 1.7030 - val_accuracy: 0.3103\n",
            "Epoch 7/100\n",
            "225/225 [==============================] - 34s 150ms/step - loss: 1.7555 - accuracy: 0.2717 - val_loss: 1.7025 - val_accuracy: 0.2914\n",
            "Epoch 8/100\n",
            "225/225 [==============================] - 33s 144ms/step - loss: 1.7460 - accuracy: 0.2790 - val_loss: 1.6854 - val_accuracy: 0.3280\n",
            "Epoch 9/100\n",
            "225/225 [==============================] - 33s 148ms/step - loss: 1.7402 - accuracy: 0.2827 - val_loss: 1.6635 - val_accuracy: 0.3372\n",
            "Epoch 10/100\n",
            "225/225 [==============================] - 34s 149ms/step - loss: 1.7281 - accuracy: 0.2903 - val_loss: 1.6214 - val_accuracy: 0.3547\n",
            "Epoch 11/100\n",
            "225/225 [==============================] - 32s 140ms/step - loss: 1.7171 - accuracy: 0.2997 - val_loss: 1.6021 - val_accuracy: 0.3582\n",
            "Epoch 12/100\n",
            "225/225 [==============================] - 31s 138ms/step - loss: 1.7008 - accuracy: 0.3075 - val_loss: 1.5803 - val_accuracy: 0.3844\n",
            "Epoch 13/100\n",
            "225/225 [==============================] - 34s 151ms/step - loss: 1.6899 - accuracy: 0.3129 - val_loss: 1.5561 - val_accuracy: 0.3939\n",
            "Epoch 14/100\n",
            "225/225 [==============================] - 31s 138ms/step - loss: 1.6738 - accuracy: 0.3222 - val_loss: 1.5062 - val_accuracy: 0.4010\n",
            "Epoch 15/100\n",
            "225/225 [==============================] - 31s 138ms/step - loss: 1.6615 - accuracy: 0.3330 - val_loss: 1.4974 - val_accuracy: 0.4136\n",
            "Epoch 16/100\n",
            "225/225 [==============================] - 33s 145ms/step - loss: 1.6522 - accuracy: 0.3370 - val_loss: 1.4540 - val_accuracy: 0.4441\n",
            "Epoch 17/100\n",
            "225/225 [==============================] - 31s 137ms/step - loss: 1.6374 - accuracy: 0.3462 - val_loss: 1.4561 - val_accuracy: 0.4580\n",
            "Epoch 18/100\n",
            "225/225 [==============================] - 31s 137ms/step - loss: 1.6186 - accuracy: 0.3605 - val_loss: 1.4181 - val_accuracy: 0.4583\n",
            "Epoch 19/100\n",
            "225/225 [==============================] - 33s 146ms/step - loss: 1.6024 - accuracy: 0.3622 - val_loss: 1.4639 - val_accuracy: 0.4365\n",
            "Epoch 20/100\n",
            "225/225 [==============================] - 33s 145ms/step - loss: 1.5967 - accuracy: 0.3668 - val_loss: 1.3891 - val_accuracy: 0.4736\n",
            "Epoch 21/100\n",
            "225/225 [==============================] - 32s 143ms/step - loss: 1.5755 - accuracy: 0.3831 - val_loss: 1.3685 - val_accuracy: 0.4798\n",
            "Epoch 22/100\n",
            "225/225 [==============================] - 32s 144ms/step - loss: 1.5698 - accuracy: 0.3801 - val_loss: 1.3493 - val_accuracy: 0.4875\n",
            "Epoch 23/100\n",
            "225/225 [==============================] - 31s 136ms/step - loss: 1.5641 - accuracy: 0.3775 - val_loss: 1.3303 - val_accuracy: 0.4973\n",
            "Epoch 24/100\n",
            "225/225 [==============================] - 31s 137ms/step - loss: 1.5450 - accuracy: 0.3869 - val_loss: 1.3474 - val_accuracy: 0.4935\n",
            "Epoch 25/100\n",
            "225/225 [==============================] - 32s 141ms/step - loss: 1.5361 - accuracy: 0.4016 - val_loss: 1.3178 - val_accuracy: 0.5044\n",
            "Epoch 26/100\n",
            "225/225 [==============================] - 31s 136ms/step - loss: 1.5259 - accuracy: 0.4062 - val_loss: 1.3240 - val_accuracy: 0.5011\n",
            "Epoch 27/100\n",
            "225/225 [==============================] - 32s 144ms/step - loss: 1.5256 - accuracy: 0.4097 - val_loss: 1.3311 - val_accuracy: 0.4965\n",
            "Epoch 28/100\n",
            "225/225 [==============================] - 33s 145ms/step - loss: 1.5176 - accuracy: 0.4100 - val_loss: 1.2809 - val_accuracy: 0.5221\n",
            "Epoch 29/100\n",
            "225/225 [==============================] - 31s 136ms/step - loss: 1.5159 - accuracy: 0.4003 - val_loss: 1.2838 - val_accuracy: 0.5158\n",
            "Epoch 30/100\n",
            "225/225 [==============================] - 31s 136ms/step - loss: 1.5017 - accuracy: 0.4185 - val_loss: 1.2872 - val_accuracy: 0.5191\n",
            "Epoch 31/100\n",
            "225/225 [==============================] - 31s 138ms/step - loss: 1.4923 - accuracy: 0.4217 - val_loss: 1.2771 - val_accuracy: 0.5221\n",
            "Epoch 32/100\n",
            "225/225 [==============================] - 32s 143ms/step - loss: 1.4819 - accuracy: 0.4342 - val_loss: 1.2772 - val_accuracy: 0.5196\n",
            "Epoch 33/100\n",
            "225/225 [==============================] - 32s 142ms/step - loss: 1.4902 - accuracy: 0.4228 - val_loss: 1.2895 - val_accuracy: 0.5150\n",
            "Epoch 34/100\n",
            "225/225 [==============================] - 31s 136ms/step - loss: 1.4816 - accuracy: 0.4273 - val_loss: 1.2826 - val_accuracy: 0.5155\n",
            "Epoch 35/100\n",
            "225/225 [==============================] - 32s 144ms/step - loss: 1.4733 - accuracy: 0.4214 - val_loss: 1.2826 - val_accuracy: 0.5169\n",
            "Epoch 36/100\n",
            "225/225 [==============================] - 31s 138ms/step - loss: 1.4646 - accuracy: 0.4324 - val_loss: 1.2592 - val_accuracy: 0.5213\n",
            "Epoch 37/100\n",
            "225/225 [==============================] - 31s 139ms/step - loss: 1.4594 - accuracy: 0.4355 - val_loss: 1.2477 - val_accuracy: 0.5360\n",
            "Epoch 38/100\n",
            "225/225 [==============================] - 33s 147ms/step - loss: 1.4657 - accuracy: 0.4330 - val_loss: 1.2124 - val_accuracy: 0.5433\n",
            "Epoch 39/100\n",
            "225/225 [==============================] - 32s 140ms/step - loss: 1.4585 - accuracy: 0.4347 - val_loss: 1.2305 - val_accuracy: 0.5379\n",
            "Epoch 40/100\n",
            "225/225 [==============================] - 35s 154ms/step - loss: 1.4485 - accuracy: 0.4373 - val_loss: 1.2088 - val_accuracy: 0.5354\n",
            "Epoch 41/100\n",
            "225/225 [==============================] - 31s 138ms/step - loss: 1.4506 - accuracy: 0.4408 - val_loss: 1.2100 - val_accuracy: 0.5368\n",
            "Epoch 42/100\n",
            "225/225 [==============================] - 31s 137ms/step - loss: 1.4548 - accuracy: 0.4340 - val_loss: 1.2361 - val_accuracy: 0.5354\n",
            "Epoch 43/100\n",
            "225/225 [==============================] - 32s 144ms/step - loss: 1.4347 - accuracy: 0.4462 - val_loss: 1.2194 - val_accuracy: 0.5365\n",
            "Epoch 44/100\n",
            "225/225 [==============================] - 33s 146ms/step - loss: 1.4408 - accuracy: 0.4451 - val_loss: 1.1801 - val_accuracy: 0.5581\n",
            "Epoch 45/100\n",
            "225/225 [==============================] - 31s 138ms/step - loss: 1.4229 - accuracy: 0.4465 - val_loss: 1.2133 - val_accuracy: 0.5352\n",
            "Epoch 46/100\n",
            "225/225 [==============================] - 31s 137ms/step - loss: 1.4233 - accuracy: 0.4503 - val_loss: 1.1950 - val_accuracy: 0.5523\n",
            "Epoch 47/100\n",
            "225/225 [==============================] - 34s 151ms/step - loss: 1.4295 - accuracy: 0.4550 - val_loss: 1.2100 - val_accuracy: 0.5379\n",
            "Epoch 48/100\n",
            "225/225 [==============================] - 31s 138ms/step - loss: 1.4162 - accuracy: 0.4490 - val_loss: 1.1584 - val_accuracy: 0.5635\n",
            "Epoch 49/100\n",
            "225/225 [==============================] - 31s 139ms/step - loss: 1.4139 - accuracy: 0.4525 - val_loss: 1.2043 - val_accuracy: 0.5510\n",
            "Epoch 50/100\n",
            "225/225 [==============================] - 32s 144ms/step - loss: 1.4181 - accuracy: 0.4539 - val_loss: 1.1799 - val_accuracy: 0.5586\n",
            "Epoch 51/100\n",
            "225/225 [==============================] - 31s 138ms/step - loss: 1.4077 - accuracy: 0.4600 - val_loss: 1.1757 - val_accuracy: 0.5567\n",
            "Epoch 52/100\n",
            "225/225 [==============================] - 31s 137ms/step - loss: 1.3995 - accuracy: 0.4611 - val_loss: 1.1615 - val_accuracy: 0.5600\n",
            "Epoch 53/100\n",
            "225/225 [==============================] - 32s 144ms/step - loss: 1.4042 - accuracy: 0.4613 - val_loss: 1.1870 - val_accuracy: 0.5532\n",
            "Epoch 54/100\n",
            "225/225 [==============================] - 33s 148ms/step - loss: 1.3941 - accuracy: 0.4631 - val_loss: 1.1720 - val_accuracy: 0.5578\n",
            "Epoch 55/100\n",
            "225/225 [==============================] - 32s 141ms/step - loss: 1.3895 - accuracy: 0.4654 - val_loss: 1.1528 - val_accuracy: 0.5720\n",
            "Epoch 56/100\n",
            "225/225 [==============================] - 33s 145ms/step - loss: 1.3927 - accuracy: 0.4600 - val_loss: 1.1862 - val_accuracy: 0.5564\n",
            "Epoch 57/100\n",
            "225/225 [==============================] - 31s 139ms/step - loss: 1.3895 - accuracy: 0.4599 - val_loss: 1.1456 - val_accuracy: 0.5712\n",
            "Epoch 58/100\n",
            "225/225 [==============================] - 31s 139ms/step - loss: 1.3869 - accuracy: 0.4645 - val_loss: 1.1662 - val_accuracy: 0.5589\n",
            "Epoch 59/100\n",
            "225/225 [==============================] - 33s 145ms/step - loss: 1.3919 - accuracy: 0.4625 - val_loss: 1.1519 - val_accuracy: 0.5671\n",
            "Epoch 60/100\n",
            "225/225 [==============================] - 33s 145ms/step - loss: 1.3718 - accuracy: 0.4739 - val_loss: 1.1701 - val_accuracy: 0.5573\n",
            "Epoch 61/100\n",
            "225/225 [==============================] - 31s 139ms/step - loss: 1.3777 - accuracy: 0.4702 - val_loss: 1.1485 - val_accuracy: 0.5649\n",
            "Epoch 62/100\n",
            "225/225 [==============================] - 33s 145ms/step - loss: 1.3800 - accuracy: 0.4712 - val_loss: 1.1542 - val_accuracy: 0.5687\n",
            "Epoch 63/100\n",
            "225/225 [==============================] - 32s 140ms/step - loss: 1.3691 - accuracy: 0.4730 - val_loss: 1.1565 - val_accuracy: 0.5692\n",
            "Epoch 64/100\n",
            "225/225 [==============================] - 31s 140ms/step - loss: 1.3743 - accuracy: 0.4706 - val_loss: 1.1460 - val_accuracy: 0.5728\n",
            "Epoch 65/100\n",
            "225/225 [==============================] - 33s 148ms/step - loss: 1.3624 - accuracy: 0.4783 - val_loss: 1.1814 - val_accuracy: 0.5564\n",
            "Epoch 66/100\n",
            "225/225 [==============================] - 31s 139ms/step - loss: 1.3635 - accuracy: 0.4734 - val_loss: 1.1336 - val_accuracy: 0.5793\n",
            "Epoch 67/100\n",
            "225/225 [==============================] - 32s 144ms/step - loss: 1.3636 - accuracy: 0.4728 - val_loss: 1.1167 - val_accuracy: 0.5845\n",
            "Epoch 68/100\n",
            "225/225 [==============================] - 33s 145ms/step - loss: 1.3509 - accuracy: 0.4748 - val_loss: 1.1648 - val_accuracy: 0.5611\n",
            "Epoch 69/100\n",
            "225/225 [==============================] - 33s 146ms/step - loss: 1.3610 - accuracy: 0.4688 - val_loss: 1.1347 - val_accuracy: 0.5766\n",
            "Epoch 70/100\n",
            "225/225 [==============================] - 31s 138ms/step - loss: 1.3561 - accuracy: 0.4831 - val_loss: 1.1552 - val_accuracy: 0.5660\n",
            "Epoch 71/100\n",
            "225/225 [==============================] - 31s 138ms/step - loss: 1.3536 - accuracy: 0.4851 - val_loss: 1.1402 - val_accuracy: 0.5752\n",
            "Epoch 72/100\n",
            "225/225 [==============================] - 33s 145ms/step - loss: 1.3497 - accuracy: 0.4783 - val_loss: 1.1233 - val_accuracy: 0.5788\n",
            "Epoch 73/100\n",
            "225/225 [==============================] - 32s 143ms/step - loss: 1.3573 - accuracy: 0.4809 - val_loss: 1.1268 - val_accuracy: 0.5793\n",
            "Epoch 74/100\n",
            "225/225 [==============================] - 31s 137ms/step - loss: 1.3546 - accuracy: 0.4795 - val_loss: 1.1292 - val_accuracy: 0.5755\n",
            "Epoch 75/100\n",
            "225/225 [==============================] - 32s 143ms/step - loss: 1.3534 - accuracy: 0.4784 - val_loss: 1.1252 - val_accuracy: 0.5772\n",
            "Epoch 76/100\n",
            "225/225 [==============================] - 31s 136ms/step - loss: 1.3519 - accuracy: 0.4838 - val_loss: 1.1611 - val_accuracy: 0.5600\n",
            "Epoch 77/100\n",
            "225/225 [==============================] - 31s 137ms/step - loss: 1.3503 - accuracy: 0.4815 - val_loss: 1.1496 - val_accuracy: 0.5684\n",
            "Epoch 78/100\n",
            "225/225 [==============================] - 32s 144ms/step - loss: 1.3566 - accuracy: 0.4772 - val_loss: 1.1453 - val_accuracy: 0.5736\n",
            "Epoch 79/100\n",
            "225/225 [==============================] - 31s 138ms/step - loss: 1.3424 - accuracy: 0.4847 - val_loss: 1.1300 - val_accuracy: 0.5758\n",
            "Epoch 80/100\n",
            "225/225 [==============================] - 33s 146ms/step - loss: 1.3450 - accuracy: 0.4824 - val_loss: 1.1020 - val_accuracy: 0.5812\n",
            "Epoch 81/100\n",
            "225/225 [==============================] - 33s 149ms/step - loss: 1.3452 - accuracy: 0.4889 - val_loss: 1.1239 - val_accuracy: 0.5818\n",
            "Epoch 82/100\n",
            "225/225 [==============================] - 31s 139ms/step - loss: 1.3390 - accuracy: 0.4919 - val_loss: 1.1055 - val_accuracy: 0.5883\n",
            "Epoch 83/100\n",
            "225/225 [==============================] - 33s 146ms/step - loss: 1.3351 - accuracy: 0.4919 - val_loss: 1.1359 - val_accuracy: 0.5842\n",
            "Epoch 84/100\n",
            "225/225 [==============================] - 33s 146ms/step - loss: 1.3320 - accuracy: 0.4897 - val_loss: 1.1319 - val_accuracy: 0.5736\n",
            "Epoch 85/100\n",
            "225/225 [==============================] - 33s 146ms/step - loss: 1.3299 - accuracy: 0.4851 - val_loss: 1.0888 - val_accuracy: 0.5881\n",
            "Epoch 86/100\n",
            "225/225 [==============================] - 31s 138ms/step - loss: 1.3336 - accuracy: 0.4858 - val_loss: 1.1137 - val_accuracy: 0.5845\n",
            "Epoch 87/100\n",
            "225/225 [==============================] - 32s 144ms/step - loss: 1.3245 - accuracy: 0.4969 - val_loss: 1.1191 - val_accuracy: 0.5829\n",
            "Epoch 88/100\n",
            "225/225 [==============================] - 33s 147ms/step - loss: 1.3342 - accuracy: 0.4808 - val_loss: 1.0747 - val_accuracy: 0.5913\n",
            "Epoch 89/100\n",
            "225/225 [==============================] - 32s 140ms/step - loss: 1.3209 - accuracy: 0.4933 - val_loss: 1.1046 - val_accuracy: 0.5848\n",
            "Epoch 90/100\n",
            "225/225 [==============================] - 31s 138ms/step - loss: 1.3252 - accuracy: 0.4961 - val_loss: 1.0861 - val_accuracy: 0.5943\n",
            "Epoch 91/100\n",
            "225/225 [==============================] - 31s 139ms/step - loss: 1.3166 - accuracy: 0.4897 - val_loss: 1.1172 - val_accuracy: 0.5818\n",
            "Epoch 92/100\n",
            "225/225 [==============================] - 32s 144ms/step - loss: 1.3224 - accuracy: 0.4994 - val_loss: 1.1219 - val_accuracy: 0.5777\n",
            "Epoch 93/100\n",
            "225/225 [==============================] - 31s 138ms/step - loss: 1.3187 - accuracy: 0.4908 - val_loss: 1.0709 - val_accuracy: 0.6006\n",
            "Epoch 94/100\n",
            "225/225 [==============================] - 35s 154ms/step - loss: 1.3199 - accuracy: 0.4928 - val_loss: 1.1241 - val_accuracy: 0.5802\n",
            "Epoch 95/100\n",
            "225/225 [==============================] - 31s 140ms/step - loss: 1.3232 - accuracy: 0.4971 - val_loss: 1.1137 - val_accuracy: 0.5870\n",
            "Epoch 96/100\n",
            "225/225 [==============================] - 31s 139ms/step - loss: 1.3217 - accuracy: 0.4877 - val_loss: 1.1004 - val_accuracy: 0.5804\n",
            "Epoch 97/100\n",
            "225/225 [==============================] - 34s 151ms/step - loss: 1.3094 - accuracy: 0.5024 - val_loss: 1.1074 - val_accuracy: 0.5856\n",
            "Epoch 98/100\n",
            "225/225 [==============================] - 33s 146ms/step - loss: 1.3122 - accuracy: 0.5022 - val_loss: 1.1374 - val_accuracy: 0.5761\n",
            "Epoch 99/100\n",
            "225/225 [==============================] - 34s 150ms/step - loss: 1.3205 - accuracy: 0.4957 - val_loss: 1.0921 - val_accuracy: 0.5971\n",
            "Epoch 100/100\n",
            "225/225 [==============================] - 33s 148ms/step - loss: 1.3040 - accuracy: 0.4954 - val_loss: 1.0829 - val_accuracy: 0.6009\n",
            "CPU times: user 1h 25min 26s, sys: 2min 34s, total: 1h 28min\n",
            "Wall time: 54min 47s\n"
          ]
        }
      ]
    },
    {
      "cell_type": "code",
      "source": [
        "%time\n",
        "from tensorflow.keras.callbacks import EarlyStopping\n",
        "\n",
        "# Define early stopping callback\n",
        "early_stopping = EarlyStopping(\n",
        "    monitor='val_loss',  # Monitor validation loss\n",
        "    patience=3,          # Number of epochs with no improvement after which training will be stopped\n",
        "    restore_best_weights=True  # Restores model weights from the epoch with the best value of the monitored quantity.\n",
        ")\n",
        "\n",
        "# Include early stopping in your training\n",
        "history = model.fit(\n",
        "    train_generator,\n",
        "    epochs=50,\n",
        "    validation_data=validation_generator,\n",
        "    callbacks=[early_stopping]  # Add early stopping to callbacks\n",
        ")\n"
      ],
      "metadata": {
        "colab": {
          "base_uri": "https://localhost:8080/"
        },
        "id": "kyXJAGPZB47E",
        "outputId": "bad28dc1-b5a1-4015-ce15-df842a18a0b4"
      },
      "execution_count": 23,
      "outputs": [
        {
          "output_type": "stream",
          "name": "stdout",
          "text": [
            "CPU times: user 0 ns, sys: 5 µs, total: 5 µs\n",
            "Wall time: 15.3 µs\n",
            "Epoch 1/50\n",
            "225/225 [==============================] - 33s 146ms/step - loss: 1.2992 - accuracy: 0.4958 - val_loss: 1.0575 - val_accuracy: 0.5998\n",
            "Epoch 2/50\n",
            "225/225 [==============================] - 32s 140ms/step - loss: 1.2905 - accuracy: 0.5106 - val_loss: 1.0791 - val_accuracy: 0.5834\n",
            "Epoch 3/50\n",
            "225/225 [==============================] - 34s 149ms/step - loss: 1.2719 - accuracy: 0.5148 - val_loss: 1.1035 - val_accuracy: 0.5894\n",
            "Epoch 4/50\n",
            "225/225 [==============================] - 34s 149ms/step - loss: 1.2927 - accuracy: 0.5078 - val_loss: 1.0696 - val_accuracy: 0.6022\n"
          ]
        }
      ]
    },
    {
      "cell_type": "code",
      "source": [
        "import matplotlib.pyplot as plt\n",
        "\n",
        "# Assuming `history` is the return value from the `model.fit()` call\n",
        "acc = history.history['accuracy']\n",
        "val_acc = history.history['val_accuracy']\n",
        "loss = history.history['loss']\n",
        "val_loss = history.history['val_loss']\n",
        "epochs = range(1, len(acc) + 1)\n",
        "\n",
        "plt.figure(figsize=(12, 6))\n",
        "plt.subplot(1, 2, 1)\n",
        "plt.plot(epochs, acc, 'bo', label='Training Accuracy')\n",
        "plt.plot(epochs, val_acc, 'b', label='Validation Accuracy')\n",
        "plt.title('Training and Validation Accuracy')\n",
        "plt.legend()\n",
        "\n",
        "plt.subplot(1, 2, 2)\n",
        "plt.plot(epochs, loss, 'ro', label='Training Loss')\n",
        "plt.plot(epochs, val_loss, 'r', label='Validation Loss')\n",
        "plt.title('Training and Validation Loss')\n",
        "plt.legend()\n",
        "\n",
        "plt.show()"
      ],
      "metadata": {
        "id": "aorbSpYGyxXe",
        "colab": {
          "base_uri": "https://localhost:8080/",
          "height": 374
        },
        "outputId": "7ec9efc6-5ef3-4d5c-e5cb-422dd58125b7"
      },
      "execution_count": 26,
      "outputs": [
        {
          "output_type": "display_data",
          "data": {
            "text/plain": [
              "<Figure size 1200x600 with 2 Axes>"
            ],
            "image/png": "[encoded data removed]"
          },
          "metadata": {}
        }
      ]
    },
    {
      "cell_type": "code",
      "source": [
        "from tensorflow.keras.preprocessing import image\n",
        "import numpy as np\n",
        "\n",
        "# Load and prepare the image\n",
        "test_image = image.load_img('/content/fer-may-hackathon/images/validation/disgust/PublicTest_31237465.jpg', target_size=(48, 48), color_mode='grayscale')\n",
        "test_image = image.img_to_array(test_image)\n",
        "test_image = np.expand_dims(test_image, axis=0)\n",
        "test_image /= 255.0\n",
        "\n",
        "# Predict the emotion\n",
        "predictions = model.predict(test_image)\n",
        "predicted_class = np.argmax(predictions, axis=1)\n",
        "\n",
        "# Assuming you have a mapping of numeric labels to emotion names\n",
        "emotion_labels = {0: 'Angry', 1: 'Disgust', 2: 'Fear', 3: 'Happy', 4: 'Sad', 5: 'Surprise', 6: 'Neutral'}\n",
        "predicted_emotion = emotion_labels[predicted_class[0]]\n",
        "\n",
        "print(\"Predicted Emotion: \", predicted_emotion)"
      ],
      "metadata": {
        "id": "mvVzHbmF2SYL",
        "colab": {
          "base_uri": "https://localhost:8080/"
        },
        "outputId": "55ee2c9f-b15a-417c-9613-564686a5fd92"
      },
      "execution_count": 28,
      "outputs": [
        {
          "output_type": "stream",
          "name": "stdout",
          "text": [
            "1/1 [==============================] - 0s 23ms/step\n",
            "Predicted Emotion:  Fear\n"
          ]
        }
      ]
    },
    {
      "cell_type": "code",
      "source": [
        "!pip install scikit-optimize\n"
      ],
      "metadata": {
        "id": "A3Jhp_Q72cBI",
        "colab": {
          "base_uri": "https://localhost:8080/"
        },
        "outputId": "368e96ad-77fe-4ceb-bf07-36da83d78c38"
      },
      "execution_count": 29,
      "outputs": [
        {
          "output_type": "stream",
          "name": "stdout",
          "text": [
            "Collecting scikit-optimize\n",
            "  Downloading scikit_optimize-0.10.1-py2.py3-none-any.whl (107 kB)\n",
            "\u001b[2K     \u001b[90m━━━━━━━━━━━━━━━━━━━━━━━━━━━━━━━━━━━━━━━━\u001b[0m \u001b[32m107.7/107.7 kB\u001b[0m \u001b[31m1.2 MB/s\u001b[0m eta \u001b[36m0:00:00\u001b[0m\n",
            "\u001b[?25hRequirement already satisfied: joblib>=0.11 in /usr/local/lib/python3.10/dist-packages (from scikit-optimize) (1.4.2)\n",
            "Collecting pyaml>=16.9 (from scikit-optimize)\n",
            "  Downloading pyaml-24.4.0-py3-none-any.whl (24 kB)\n",
            "Requirement already satisfied: numpy>=1.20.3 in /usr/local/lib/python3.10/dist-packages (from scikit-optimize) (1.25.2)\n",
            "Requirement already satisfied: scipy>=1.1.0 in /usr/local/lib/python3.10/dist-packages (from scikit-optimize) (1.11.4)\n",
            "Requirement already satisfied: scikit-learn>=1.0.0 in /usr/local/lib/python3.10/dist-packages (from scikit-optimize) (1.2.2)\n",
            "Requirement already satisfied: packaging>=21.3 in /usr/local/lib/python3.10/dist-packages (from scikit-optimize) (24.0)\n",
            "Requirement already satisfied: PyYAML in /usr/local/lib/python3.10/dist-packages (from pyaml>=16.9->scikit-optimize) (6.0.1)\n",
            "Requirement already satisfied: threadpoolctl>=2.0.0 in /usr/local/lib/python3.10/dist-packages (from scikit-learn>=1.0.0->scikit-optimize) (3.5.0)\n",
            "Installing collected packages: pyaml, scikit-optimize\n",
            "Successfully installed pyaml-24.4.0 scikit-optimize-0.10.1\n"
          ]
        }
      ]
    },
    {
      "cell_type": "code",
      "source": [
        "from tensorflow.keras.models import Sequential\n",
        "from tensorflow.keras.layers import Conv2D, MaxPooling2D, Flatten, Dense, Dropout\n",
        "from tensorflow.keras.optimizers import Adam\n",
        "from skopt.space import Real, Categorical, Integer\n",
        "from skopt.utils import use_named_args\n",
        "from skopt import gp_minimize\n",
        "\n",
        "# Define the space of hyperparameters to search\n",
        "space = [\n",
        "    Real(1e-4, 1e-2, \"log-uniform\", name='learning_rate'),\n",
        "    Integer(32, 128, name='batch_size'),\n",
        "    Real(0.1, 0.5, name='dropout_rate')\n",
        "]\n",
        "\n",
        "# Define the model building function\n",
        "@use_named_args(space)\n",
        "def evaluate_model(learning_rate, batch_size, dropout_rate):\n",
        "    model = Sequential([\n",
        "        Conv2D(32, (3, 3), activation='relu', input_shape=(48, 48, 1)),\n",
        "        MaxPooling2D(2, 2),\n",
        "        Dropout(dropout_rate),\n",
        "        Flatten(),\n",
        "        Dense(128, activation='relu'),\n",
        "        Dense(7, activation='softmax')  # Adjust according to your class count\n",
        "    ])\n",
        "\n",
        "    model.compile(optimizer=Adam(learning_rate=learning_rate), loss='categorical_crossentropy', metrics=['accuracy'])\n",
        "\n",
        "    # Data generators\n",
        "    train_datagen = ImageDataGenerator(\n",
        "        rescale=1./255,\n",
        "        rotation_range=30,\n",
        "        width_shift_range=0.2,\n",
        "        height_shift_range=0.2,\n",
        "        shear_range=0.2,\n",
        "        zoom_range=0.2,\n",
        "        horizontal_flip=True,\n",
        "        fill_mode='nearest'\n",
        "    )\n",
        "\n",
        "    validation_datagen = ImageDataGenerator(rescale=1./255)\n",
        "\n",
        "    train_generator = train_datagen.flow_from_directory(\n",
        "        TRAIN_DIR,\n",
        "        target_size=(48, 48),\n",
        "        batch_size=int(batch_size),\n",
        "        color_mode='grayscale',\n",
        "        class_mode='categorical'\n",
        "    )\n",
        "\n",
        "    validation_generator = validation_datagen.flow_from_directory(\n",
        "        TEST_DIR,\n",
        "        target_size=(48, 48),\n",
        "        batch_size=int(batch_size),\n",
        "        color_mode='grayscale',\n",
        "        class_mode='categorical'\n",
        "    )\n",
        "\n",
        "    # Fit the model\n",
        "    history = model.fit(\n",
        "        train_generator,\n",
        "        epochs=10,  # Consider reducing for quicker iterations\n",
        "        validation_data=validation_generator,\n",
        "        verbose=0  # Keep verbose off to avoid too much log data\n",
        "    )\n",
        "\n",
        "    # We aim to minimize the negative accuracy\n",
        "    return -history.history['val_accuracy'][-1]\n",
        "\n",
        "# Running Bayesian Optimization\n",
        "result = gp_minimize(evaluate_model, space, n_calls=12, random_state=0)\n"
      ],
      "metadata": {
        "colab": {
          "base_uri": "https://localhost:8080/"
        },
        "id": "m1aMPliYcZhX",
        "outputId": "8ca46136-567a-48c6-c4c1-c2bc76881519"
      },
      "execution_count": 31,
      "outputs": [
        {
          "output_type": "stream",
          "name": "stdout",
          "text": [
            "Found 7178 images belonging to 7 classes.\n",
            "Found 3668 images belonging to 7 classes.\n",
            "Found 7178 images belonging to 7 classes.\n",
            "Found 3668 images belonging to 7 classes.\n",
            "Found 7178 images belonging to 7 classes.\n",
            "Found 3668 images belonging to 7 classes.\n",
            "Found 7178 images belonging to 7 classes.\n",
            "Found 3668 images belonging to 7 classes.\n",
            "Found 7178 images belonging to 7 classes.\n",
            "Found 3668 images belonging to 7 classes.\n",
            "Found 7178 images belonging to 7 classes.\n",
            "Found 3668 images belonging to 7 classes.\n",
            "Found 7178 images belonging to 7 classes.\n",
            "Found 3668 images belonging to 7 classes.\n",
            "Found 7178 images belonging to 7 classes.\n",
            "Found 3668 images belonging to 7 classes.\n",
            "Found 7178 images belonging to 7 classes.\n",
            "Found 3668 images belonging to 7 classes.\n",
            "Found 7178 images belonging to 7 classes.\n",
            "Found 3668 images belonging to 7 classes.\n",
            "Found 7178 images belonging to 7 classes.\n",
            "Found 3668 images belonging to 7 classes.\n",
            "Found 7178 images belonging to 7 classes.\n",
            "Found 3668 images belonging to 7 classes.\n"
          ]
        }
      ]
    },
    {
      "cell_type": "code",
      "source": [
        "print(result)"
      ],
      "metadata": {
        "colab": {
          "base_uri": "https://localhost:8080/"
        },
        "id": "X5sFqWAKePSq",
        "outputId": "021c77ec-7316-4aea-a892-6b0e58d1e3de"
      },
      "execution_count": 32,
      "outputs": [
        {
          "output_type": "stream",
          "name": "stdout",
          "text": [
            "          fun: -0.34023991227149963\n",
            "            x: [0.00039361280014637103, 37, 0.20906251783204532]\n",
            "    func_vals: [-3.304e-01 -2.933e-01 -3.402e-01 -3.244e-01 -3.258e-01\n",
            "                -3.296e-01 -3.302e-01 -3.034e-01 -3.282e-01 -3.212e-01\n",
            "                -3.222e-01 -3.310e-01]\n",
            "      x_iters: [[0.0015335192657991573, 113, 0.4431782470491028], [0.004948840736375756, 92, 0.25375268291708], [0.00039361280014637103, 37, 0.20906251783204532], [0.000902256947026915, 110, 0.291990868950023], [0.0006103368503860312, 112, 0.23495846416690738], [0.001978535031094702, 67, 0.48286206358121864], [0.00019085412933888727, 116, 0.28944321810948426], [0.0039978040531536176, 82, 0.37155181204758414], [0.002762264801799497, 88, 0.3149492917796043], [0.003290267810262663, 42, 0.289440167738663], [0.00029581879353024997, 128, 0.407888067641759], [0.00011137958052265495, 32, 0.2483371657261535]]\n",
            "       models: [GaussianProcessRegressor(kernel=1**2 * Matern(length_scale=[1, 1, 1], nu=2.5) + WhiteKernel(noise_level=1),\n",
            "                                        n_restarts_optimizer=2, noise='gaussian',\n",
            "                                        normalize_y=True, random_state=209652396), GaussianProcessRegressor(kernel=1**2 * Matern(length_scale=[1, 1, 1], nu=2.5) + WhiteKernel(noise_level=1),\n",
            "                                        n_restarts_optimizer=2, noise='gaussian',\n",
            "                                        normalize_y=True, random_state=209652396), GaussianProcessRegressor(kernel=1**2 * Matern(length_scale=[1, 1, 1], nu=2.5) + WhiteKernel(noise_level=1),\n",
            "                                        n_restarts_optimizer=2, noise='gaussian',\n",
            "                                        normalize_y=True, random_state=209652396)]\n",
            "        space: Space([Real(low=0.0001, high=0.01, prior='log-uniform', transform='normalize'),\n",
            "                      Integer(low=32, high=128, prior='uniform', transform='normalize'),\n",
            "                      Real(low=0.1, high=0.5, prior='uniform', transform='normalize')])\n",
            " random_state: RandomState(MT19937)\n",
            "        specs:     args:                    func: <function evaluate_model at 0x791f7a6009d0>\n",
            "                                      dimensions: Space([Real(low=0.0001, high=0.01, prior='log-uniform', transform='normalize'),\n",
            "                                                         Integer(low=32, high=128, prior='uniform', transform='normalize'),\n",
            "                                                         Real(low=0.1, high=0.5, prior='uniform', transform='normalize')])\n",
            "                                  base_estimator: GaussianProcessRegressor(kernel=1**2 * Matern(length_scale=[1, 1, 1], nu=2.5),\n",
            "                                                                           n_restarts_optimizer=2, noise='gaussian',\n",
            "                                                                           normalize_y=True, random_state=209652396)\n",
            "                                         n_calls: 12\n",
            "                                 n_random_starts: None\n",
            "                                n_initial_points: 10\n",
            "                         initial_point_generator: random\n",
            "                                        acq_func: gp_hedge\n",
            "                                   acq_optimizer: auto\n",
            "                                              x0: None\n",
            "                                              y0: None\n",
            "                                    random_state: RandomState(MT19937)\n",
            "                                         verbose: False\n",
            "                                        callback: None\n",
            "                                        n_points: 10000\n",
            "                            n_restarts_optimizer: 5\n",
            "                                              xi: 0.01\n",
            "                                           kappa: 1.96\n",
            "                                          n_jobs: 1\n",
            "                                model_queue_size: None\n",
            "                                space_constraint: None\n",
            "               function: base_minimize\n"
          ]
        }
      ]
    },
    {
      "cell_type": "code",
      "source": [
        "from tensorflow.keras.models import Sequential\n",
        "from tensorflow.keras.layers import Conv2D, MaxPooling2D, Flatten, Dense, Dropout\n",
        "from tensorflow.keras.optimizers import Adam\n",
        "from skopt.space import Real, Integer\n",
        "from skopt.utils import use_named_args\n",
        "from skopt import gp_minimize\n",
        "from tensorflow.keras.preprocessing.image import ImageDataGenerator\n",
        "\n",
        "# Define the hyperparameter search space\n",
        "space = [\n",
        "    Real(1e-4, 1e-2, \"log-uniform\", name='learning_rate'),\n",
        "    Integer(32, 128, name='batch_size'),\n",
        "    Real(0.1, 0.5, name='dropout_rate')\n",
        "]\n",
        "\n",
        "# Define the model evaluation function\n",
        "@use_named_args(space)\n",
        "def evaluate_model(learning_rate, batch_size, dropout_rate):\n",
        "    model = Sequential([\n",
        "        Conv2D(32, (3, 3), activation='relu', input_shape=(48, 48, 1)),\n",
        "        MaxPooling2D(2, 2),\n",
        "        Dropout(dropout_rate),\n",
        "        Flatten(),\n",
        "        Dense(128, activation='relu'),\n",
        "        Dropout(dropout_rate),\n",
        "        Dense(7, activation='softmax')  # Adjust according to your class count\n",
        "    ])\n",
        "\n",
        "    model.compile(optimizer=Adam(learning_rate=learning_rate), loss='categorical_crossentropy', metrics=['accuracy'])\n",
        "\n",
        "    # Data generators\n",
        "    train_datagen = ImageDataGenerator(\n",
        "        rescale=1./255,\n",
        "        rotation_range=30,\n",
        "        width_shift_range=0.2,\n",
        "        height_shift_range=0.2,\n",
        "        shear_range=0.2,\n",
        "        zoom_range=0.2,\n",
        "        horizontal_flip=True,\n",
        "        fill_mode='nearest'\n",
        "    )\n",
        "\n",
        "    validation_datagen = ImageDataGenerator(rescale=1./255)\n",
        "\n",
        "    train_generator = train_datagen.flow_from_directory(\n",
        "        TRAIN_DIR,\n",
        "        target_size=(48, 48),\n",
        "        batch_size=int(batch_size),\n",
        "        color_mode='grayscale',\n",
        "        class_mode='categorical'\n",
        "    )\n",
        "\n",
        "    validation_generator = validation_datagen.flow_from_directory(\n",
        "        TEST_DIR,\n",
        "        target_size=(48, 48),\n",
        "        batch_size=int(batch_size),\n",
        "        color_mode='grayscale',\n",
        "        class_mode='categorical'\n",
        "    )\n",
        "\n",
        "    # Fit the model\n",
        "    history = model.fit(\n",
        "        train_generator,\n",
        "        epochs=10,  # Use fewer epochs for quicker iterations\n",
        "        validation_data=validation_generator,\n",
        "        verbose=0  # Keep verbose off to avoid too much log data\n",
        "    )\n",
        "\n",
        "    # We aim to minimize the negative accuracy\n",
        "    accuracy = history.history['val_accuracy'][-1]\n",
        "    return -accuracy\n",
        "\n",
        "# Running Bayesian Optimization\n",
        "result = gp_minimize(\n",
        "    evaluate_model,\n",
        "    space,\n",
        "    n_calls=12,\n",
        "    n_initial_points=10,\n",
        "    acq_func='gp_hedge',\n",
        "    random_state=0,\n",
        "    n_jobs=1\n",
        ")\n",
        "\n",
        "# Best parameters and accuracy\n",
        "print(\"Best parameters: %s\" % result.x)\n",
        "print(\"Best validation accuracy: %.2f%%\" % (-result.fun * 100))\n"
      ],
      "metadata": {
        "colab": {
          "base_uri": "https://localhost:8080/"
        },
        "id": "yC6mbhUqylcD",
        "outputId": "ae9653cf-0d85-4eed-b3e5-4f27012f0eda"
      },
      "execution_count": 34,
      "outputs": [
        {
          "output_type": "stream",
          "name": "stdout",
          "text": [
            "Found 7178 images belonging to 7 classes.\n",
            "Found 3668 images belonging to 7 classes.\n",
            "Found 7178 images belonging to 7 classes.\n",
            "Found 3668 images belonging to 7 classes.\n",
            "Found 7178 images belonging to 7 classes.\n",
            "Found 3668 images belonging to 7 classes.\n",
            "Found 7178 images belonging to 7 classes.\n",
            "Found 3668 images belonging to 7 classes.\n",
            "Found 7178 images belonging to 7 classes.\n",
            "Found 3668 images belonging to 7 classes.\n",
            "Found 7178 images belonging to 7 classes.\n",
            "Found 3668 images belonging to 7 classes.\n",
            "Found 7178 images belonging to 7 classes.\n",
            "Found 3668 images belonging to 7 classes.\n",
            "Found 7178 images belonging to 7 classes.\n",
            "Found 3668 images belonging to 7 classes.\n",
            "Found 7178 images belonging to 7 classes.\n",
            "Found 3668 images belonging to 7 classes.\n",
            "Found 7178 images belonging to 7 classes.\n",
            "Found 3668 images belonging to 7 classes.\n",
            "Found 7178 images belonging to 7 classes.\n",
            "Found 3668 images belonging to 7 classes.\n",
            "Found 7178 images belonging to 7 classes.\n",
            "Found 3668 images belonging to 7 classes.\n",
            "Best parameters: [0.000902256947026915, 110, 0.291990868950023]\n",
            "Best validation accuracy: 33.67%\n"
          ]
        }
      ]
    },
    {
      "cell_type": "code",
      "source": [
        "!pip install streamlit\n"
      ],
      "metadata": {
        "colab": {
          "base_uri": "https://localhost:8080/"
        },
        "id": "as1hbNywDFRC",
        "outputId": "53903bb3-0b7f-4b53-e7ca-ee184492e43d"
      },
      "execution_count": 36,
      "outputs": [
        {
          "output_type": "stream",
          "name": "stdout",
          "text": [
            "Collecting streamlit\n",
            "  Downloading streamlit-1.35.0-py2.py3-none-any.whl (8.6 MB)\n",
            "\u001b[2K     \u001b[90m━━━━━━━━━━━━━━━━━━━━━━━━━━━━━━━━━━━━━━━━\u001b[0m \u001b[32m8.6/8.6 MB\u001b[0m \u001b[31m20.7 MB/s\u001b[0m eta \u001b[36m0:00:00\u001b[0m\n",
            "\u001b[?25hRequirement already satisfied: altair<6,>=4.0 in /usr/local/lib/python3.10/dist-packages (from streamlit) (4.2.2)\n",
            "Requirement already satisfied: blinker<2,>=1.0.0 in /usr/lib/python3/dist-packages (from streamlit) (1.4)\n",
            "Requirement already satisfied: cachetools<6,>=4.0 in /usr/local/lib/python3.10/dist-packages (from streamlit) (5.3.3)\n",
            "Requirement already satisfied: click<9,>=7.0 in /usr/local/lib/python3.10/dist-packages (from streamlit) (8.1.7)\n",
            "Requirement already satisfied: numpy<2,>=1.19.3 in /usr/local/lib/python3.10/dist-packages (from streamlit) (1.25.2)\n",
            "Requirement already satisfied: packaging<25,>=16.8 in /usr/local/lib/python3.10/dist-packages (from streamlit) (24.0)\n",
            "Requirement already satisfied: pandas<3,>=1.3.0 in /usr/local/lib/python3.10/dist-packages (from streamlit) (2.0.3)\n",
            "Requirement already satisfied: pillow<11,>=7.1.0 in /usr/local/lib/python3.10/dist-packages (from streamlit) (9.4.0)\n",
            "Requirement already satisfied: protobuf<5,>=3.20 in /usr/local/lib/python3.10/dist-packages (from streamlit) (3.20.3)\n",
            "Requirement already satisfied: pyarrow>=7.0 in /usr/local/lib/python3.10/dist-packages (from streamlit) (14.0.2)\n",
            "Requirement already satisfied: requests<3,>=2.27 in /usr/local/lib/python3.10/dist-packages (from streamlit) (2.31.0)\n",
            "Requirement already satisfied: rich<14,>=10.14.0 in /usr/local/lib/python3.10/dist-packages (from streamlit) (13.7.1)\n",
            "Requirement already satisfied: tenacity<9,>=8.1.0 in /usr/local/lib/python3.10/dist-packages (from streamlit) (8.3.0)\n",
            "Requirement already satisfied: toml<2,>=0.10.1 in /usr/local/lib/python3.10/dist-packages (from streamlit) (0.10.2)\n",
            "Requirement already satisfied: typing-extensions<5,>=4.3.0 in /usr/local/lib/python3.10/dist-packages (from streamlit) (4.11.0)\n",
            "Collecting gitpython!=3.1.19,<4,>=3.0.7 (from streamlit)\n",
            "  Downloading GitPython-3.1.43-py3-none-any.whl (207 kB)\n",
            "\u001b[2K     \u001b[90m━━━━━━━━━━━━━━━━━━━━━━━━━━━━━━━━━━━━━━━━\u001b[0m \u001b[32m207.3/207.3 kB\u001b[0m \u001b[31m18.1 MB/s\u001b[0m eta \u001b[36m0:00:00\u001b[0m\n",
            "\u001b[?25hCollecting pydeck<1,>=0.8.0b4 (from streamlit)\n",
            "  Downloading pydeck-0.9.1-py2.py3-none-any.whl (6.9 MB)\n",
            "\u001b[2K     \u001b[90m━━━━━━━━━━━━━━━━━━━━━━━━━━━━━━━━━━━━━━━━\u001b[0m \u001b[32m6.9/6.9 MB\u001b[0m \u001b[31m41.3 MB/s\u001b[0m eta \u001b[36m0:00:00\u001b[0m\n",
            "\u001b[?25hRequirement already satisfied: tornado<7,>=6.0.3 in /usr/local/lib/python3.10/dist-packages (from streamlit) (6.3.3)\n",
            "Collecting watchdog>=2.1.5 (from streamlit)\n",
            "  Downloading watchdog-4.0.1-py3-none-manylinux2014_x86_64.whl (83 kB)\n",
            "\u001b[2K     \u001b[90m━━━━━━━━━━━━━━━━━━━━━━━━━━━━━━━━━━━━━━━━\u001b[0m \u001b[32m83.0/83.0 kB\u001b[0m \u001b[31m8.1 MB/s\u001b[0m eta \u001b[36m0:00:00\u001b[0m\n",
            "\u001b[?25hRequirement already satisfied: entrypoints in /usr/local/lib/python3.10/dist-packages (from altair<6,>=4.0->streamlit) (0.4)\n",
            "Requirement already satisfied: jinja2 in /usr/local/lib/python3.10/dist-packages (from altair<6,>=4.0->streamlit) (3.1.4)\n",
            "Requirement already satisfied: jsonschema>=3.0 in /usr/local/lib/python3.10/dist-packages (from altair<6,>=4.0->streamlit) (4.19.2)\n",
            "Requirement already satisfied: toolz in /usr/local/lib/python3.10/dist-packages (from altair<6,>=4.0->streamlit) (0.12.1)\n",
            "Collecting gitdb<5,>=4.0.1 (from gitpython!=3.1.19,<4,>=3.0.7->streamlit)\n",
            "  Downloading gitdb-4.0.11-py3-none-any.whl (62 kB)\n",
            "\u001b[2K     \u001b[90m━━━━━━━━━━━━━━━━━━━━━━━━━━━━━━━━━━━━━━━━\u001b[0m \u001b[32m62.7/62.7 kB\u001b[0m \u001b[31m3.8 MB/s\u001b[0m eta \u001b[36m0:00:00\u001b[0m\n",
            "\u001b[?25hRequirement already satisfied: python-dateutil>=2.8.2 in /usr/local/lib/python3.10/dist-packages (from pandas<3,>=1.3.0->streamlit) (2.8.2)\n",
            "Requirement already satisfied: pytz>=2020.1 in /usr/local/lib/python3.10/dist-packages (from pandas<3,>=1.3.0->streamlit) (2023.4)\n",
            "Requirement already satisfied: tzdata>=2022.1 in /usr/local/lib/python3.10/dist-packages (from pandas<3,>=1.3.0->streamlit) (2024.1)\n",
            "Requirement already satisfied: charset-normalizer<4,>=2 in /usr/local/lib/python3.10/dist-packages (from requests<3,>=2.27->streamlit) (3.3.2)\n",
            "Requirement already satisfied: idna<4,>=2.5 in /usr/local/lib/python3.10/dist-packages (from requests<3,>=2.27->streamlit) (3.7)\n",
            "Requirement already satisfied: urllib3<3,>=1.21.1 in /usr/local/lib/python3.10/dist-packages (from requests<3,>=2.27->streamlit) (2.0.7)\n",
            "Requirement already satisfied: certifi>=2017.4.17 in /usr/local/lib/python3.10/dist-packages (from requests<3,>=2.27->streamlit) (2024.2.2)\n",
            "Requirement already satisfied: markdown-it-py>=2.2.0 in /usr/local/lib/python3.10/dist-packages (from rich<14,>=10.14.0->streamlit) (3.0.0)\n",
            "Requirement already satisfied: pygments<3.0.0,>=2.13.0 in /usr/local/lib/python3.10/dist-packages (from rich<14,>=10.14.0->streamlit) (2.16.1)\n",
            "Collecting smmap<6,>=3.0.1 (from gitdb<5,>=4.0.1->gitpython!=3.1.19,<4,>=3.0.7->streamlit)\n",
            "  Downloading smmap-5.0.1-py3-none-any.whl (24 kB)\n",
            "Requirement already satisfied: MarkupSafe>=2.0 in /usr/local/lib/python3.10/dist-packages (from jinja2->altair<6,>=4.0->streamlit) (2.1.5)\n",
            "Requirement already satisfied: attrs>=22.2.0 in /usr/local/lib/python3.10/dist-packages (from jsonschema>=3.0->altair<6,>=4.0->streamlit) (23.2.0)\n",
            "Requirement already satisfied: jsonschema-specifications>=2023.03.6 in /usr/local/lib/python3.10/dist-packages (from jsonschema>=3.0->altair<6,>=4.0->streamlit) (2023.12.1)\n",
            "Requirement already satisfied: referencing>=0.28.4 in /usr/local/lib/python3.10/dist-packages (from jsonschema>=3.0->altair<6,>=4.0->streamlit) (0.35.1)\n",
            "Requirement already satisfied: rpds-py>=0.7.1 in /usr/local/lib/python3.10/dist-packages (from jsonschema>=3.0->altair<6,>=4.0->streamlit) (0.18.1)\n",
            "Requirement already satisfied: mdurl~=0.1 in /usr/local/lib/python3.10/dist-packages (from markdown-it-py>=2.2.0->rich<14,>=10.14.0->streamlit) (0.1.2)\n",
            "Requirement already satisfied: six>=1.5 in /usr/local/lib/python3.10/dist-packages (from python-dateutil>=2.8.2->pandas<3,>=1.3.0->streamlit) (1.16.0)\n",
            "Installing collected packages: watchdog, smmap, pydeck, gitdb, gitpython, streamlit\n",
            "Successfully installed gitdb-4.0.11 gitpython-3.1.43 pydeck-0.9.1 smmap-5.0.1 streamlit-1.35.0 watchdog-4.0.1\n"
          ]
        }
      ]
    },
    {
      "cell_type": "code",
      "source": [
        "# Save the model\n",
        "model.save('emotion_detection_model.h5')\n",
        "\n"
      ],
      "metadata": {
        "colab": {
          "base_uri": "https://localhost:8080/"
        },
        "id": "y1SB7MaOEZ3n",
        "outputId": "db2eef27-493d-421a-da13-d39651039d30"
      },
      "execution_count": 41,
      "outputs": [
        {
          "output_type": "stream",
          "name": "stderr",
          "text": [
            "/usr/local/lib/python3.10/dist-packages/keras/src/engine/training.py:3103: UserWarning: You are saving your model as an HDF5 file via `model.save()`. This file format is considered legacy. We recommend using instead the native Keras format, e.g. `model.save('my_model.keras')`.\n",
            "  saving_api.save_model(\n"
          ]
        }
      ]
    },
    {
      "cell_type": "code",
      "source": [
        "import streamlit as st\n",
        "import cv2\n",
        "import tempfile\n",
        "import tensorflow as tf\n",
        "import numpy as np\n",
        "\n",
        "# Load your trained model (ensure this path points to your saved model)\n",
        "model = tf.keras.models.load_model('emotion_detection_model.h5')\n",
        "\n",
        "# Define emotion labels\n",
        "emotion_labels = ['Angry', 'Disgust', 'Fear', 'Happy', 'Sad', 'Surprise', 'Neutral']\n",
        "\n",
        "st.title('Facial Emotion Recognition')\n",
        "\n",
        "uploaded_file = st.file_uploader(\"Choose a video...\", type=['mp4', 'avi', 'mov'])\n",
        "\n",
        "if uploaded_file is not None:\n",
        "    # Save the uploaded video to a temporary file\n",
        "    tfile = tempfile.NamedTemporaryFile(delete=False)\n",
        "    tfile.write(uploaded_file.read())\n",
        "\n",
        "    # Initialize video capture\n",
        "    cap = cv2.VideoCapture(tfile.name)\n",
        "\n",
        "    stframe = st.empty()\n",
        "    while cap.isOpened():\n",
        "        ret, frame = cap.read()\n",
        "        if not ret:\n",
        "            break\n",
        "\n",
        "        # Preprocess the frame\n",
        "        gray_frame = cv2.cvtColor(frame, cv2.COLOR_BGR2GRAY)\n",
        "        resized_frame = cv2.resize(gray_frame, (48, 48))\n",
        "        normalized_frame = resized_frame / 255.0\n",
        "        reshaped_frame = np.reshape(normalized_frame, (1, 48, 48, 1))\n",
        "\n",
        "        # Make prediction\n",
        "        prediction = model.predict(reshaped_frame)\n",
        "        emotion = emotion_labels[np.argmax(prediction)]\n",
        "\n",
        "        # Display the frame with emotion label\n",
        "        cv2.putText(frame, emotion, (10, 30), cv2.FONT_HERSHEY_SIMPLEX, 1, (0, 255, 0), 2, cv2.LINE_AA)\n",
        "        stframe.image(frame, channels=\"BGR\")\n",
        "\n",
        "    cap.release()\n",
        "\n"
      ],
      "metadata": {
        "id": "34RDqL0_C5Ec"
      },
      "execution_count": 43,
      "outputs": []
    },
    {
      "cell_type": "code",
      "source": [],
      "metadata": {
        "id": "tuH62rfdFOei"
      },
      "execution_count": null,
      "outputs": []
    }
  ]
}